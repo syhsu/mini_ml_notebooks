{
 "cells": [
  {
   "cell_type": "markdown",
   "metadata": {},
   "source": [
    "# Introduction\n",
    "Describe what experiment is run in this notebook."
   ]
  },
  {
   "cell_type": "code",
   "execution_count": 1,
   "metadata": {},
   "outputs": [],
   "source": [
    "# Add imports & variables here\n",
    "import sys\n",
    "sys.path.append('./')\n",
    "\n",
    "import yaml\n",
    "import pandas as pd\n",
    "import random\n",
    "import os\n",
    "\n",
    "from params import exp_configs\n",
    "from config import DATA_FOLDER, MODEL_FOLDER, ARTIFACT_FOLDER\n",
    "from config import model_version\n"
   ]
  },
  {
   "cell_type": "code",
   "execution_count": 2,
   "id": "757d711b",
   "metadata": {},
   "outputs": [],
   "source": [
    "# parameters\n",
    "data_path = os.path.join(DATA_FOLDER, \"raw.csv\")\n",
    "result_path = os.path.join(ARTIFACT_FOLDER, \"exp_results.yaml\")"
   ]
  },
  {
   "cell_type": "code",
   "execution_count": 3,
   "id": "6f648765",
   "metadata": {},
   "outputs": [
    {
     "name": "stdout",
     "output_type": "stream",
     "text": [
      "\n",
      "    \"data_path\": ../data/raw.csv,\n",
      "    \"result_path\": ../artifacts/exp_results.yaml\n",
      "\n"
     ]
    }
   ],
   "source": [
    "print(f\"\"\"\n",
    "    \"data_path\": {data_path},\n",
    "    \"result_path\": {result_path}\n",
    "\"\"\")"
   ]
  },
  {
   "cell_type": "code",
   "execution_count": 4,
   "metadata": {},
   "outputs": [
    {
     "data": {
      "text/html": [
       "<div>\n",
       "<style scoped>\n",
       "    .dataframe tbody tr th:only-of-type {\n",
       "        vertical-align: middle;\n",
       "    }\n",
       "\n",
       "    .dataframe tbody tr th {\n",
       "        vertical-align: top;\n",
       "    }\n",
       "\n",
       "    .dataframe thead th {\n",
       "        text-align: right;\n",
       "    }\n",
       "</style>\n",
       "<table border=\"1\" class=\"dataframe\">\n",
       "  <thead>\n",
       "    <tr style=\"text-align: right;\">\n",
       "      <th></th>\n",
       "      <th>param1</th>\n",
       "      <th>param2</th>\n",
       "      <th>description</th>\n",
       "    </tr>\n",
       "  </thead>\n",
       "  <tbody>\n",
       "    <tr>\n",
       "      <th>1</th>\n",
       "      <td>1</td>\n",
       "      <td>3</td>\n",
       "      <td>exp1</td>\n",
       "    </tr>\n",
       "    <tr>\n",
       "      <th>2</th>\n",
       "      <td>1</td>\n",
       "      <td>3</td>\n",
       "      <td>exp2</td>\n",
       "    </tr>\n",
       "    <tr>\n",
       "      <th>3</th>\n",
       "      <td>1</td>\n",
       "      <td>3</td>\n",
       "      <td>exp3</td>\n",
       "    </tr>\n",
       "  </tbody>\n",
       "</table>\n",
       "</div>"
      ],
      "text/plain": [
       "  param1 param2 description\n",
       "1      1      3        exp1\n",
       "2      1      3        exp2\n",
       "3      1      3        exp3"
      ]
     },
     "execution_count": 4,
     "metadata": {},
     "output_type": "execute_result"
    }
   ],
   "source": [
    "# print configs\n",
    "pd.DataFrame(exp_configs).T"
   ]
  },
  {
   "cell_type": "markdown",
   "metadata": {},
   "source": [
    "# Load data"
   ]
  },
  {
   "cell_type": "code",
   "execution_count": 5,
   "metadata": {},
   "outputs": [],
   "source": [
    "# load data\n",
    "data = pd.read_csv(data_path)\n",
    "\n",
    "# load results\n",
    "with open(result_path, 'r') as f:\n",
    "    results = yaml.safe_load(f) or {}\n"
   ]
  },
  {
   "cell_type": "code",
   "execution_count": 8,
   "id": "4f45ae43",
   "metadata": {},
   "outputs": [
    {
     "name": "stdout",
     "output_type": "stream",
     "text": [
      "data_size: (3, 3)\n",
      "existing results: \n",
      "   accuracy  precision    recall\n",
      "1  0.306302   0.677645  0.253440\n",
      "2  0.815915   0.041511  0.877862\n",
      "3  0.206161   0.256087  0.491313\n"
     ]
    }
   ],
   "source": [
    "print(f\"data_size: {data.shape}\")\n",
    "print(f\"existing results: \\n{pd.DataFrame(results).T}\")"
   ]
  },
  {
   "cell_type": "markdown",
   "metadata": {},
   "source": [
    "# Experiments"
   ]
  },
  {
   "cell_type": "code",
   "execution_count": null,
   "metadata": {},
   "outputs": [],
   "source": [
    "for key, value in exp_configs.items():\n",
    "    if key not in results.keys():\n",
    "        # Insert code for your model using value['param1'], value['param2'], etc.\n",
    "                                \n",
    "        # save models\n",
    "        model_dir = os.path.join(MODEL_FOLDER, f\"{model_version}.{key}\")\n",
    "        os.makedirs(model_dir, exist_ok=True)\n",
    "        # e.g. model.save(os.path.join(model_path, \"model.pickle\"))\n",
    "                                \n",
    "        # write results\n",
    "        results[key] = {\n",
    "            \"accuracy\": random.uniform(0, 1),\n",
    "            \"precision\": random.uniform(0, 1),\n",
    "            \"recall\": random.uniform(0, 1),\n",
    "        }"
   ]
  },
  {
   "cell_type": "markdown",
   "metadata": {},
   "source": [
    "# Evaluate Results"
   ]
  },
  {
   "cell_type": "code",
   "execution_count": null,
   "metadata": {},
   "outputs": [],
   "source": [
    "df_results = pd.DataFrame(results)\n",
    "df_results.T"
   ]
  },
  {
   "cell_type": "code",
   "execution_count": null,
   "metadata": {},
   "outputs": [],
   "source": [
    "# save metrics\n",
    "with open(result_path, 'w') as f:\n",
    "    yaml.dump(results, f)"
   ]
  },
  {
   "cell_type": "markdown",
   "metadata": {},
   "source": [
    "# Discussions & Next steps\n",
    "Describe findings & future directions"
   ]
  }
 ],
 "metadata": {
  "kernelspec": {
   "display_name": "Python 3",
   "language": "python",
   "name": "python3"
  },
  "language_info": {
   "codemirror_mode": {
    "name": "ipython",
    "version": 3
   },
   "file_extension": ".py",
   "mimetype": "text/x-python",
   "name": "python",
   "nbconvert_exporter": "python",
   "pygments_lexer": "ipython3",
   "version": "3.9.18"
  }
 },
 "nbformat": 4,
 "nbformat_minor": 5
}
