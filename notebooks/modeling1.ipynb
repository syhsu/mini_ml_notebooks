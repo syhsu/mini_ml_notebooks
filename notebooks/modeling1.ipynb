{
 "cells": [
  {
   "cell_type": "markdown",
   "metadata": {},
   "source": [
    "# Introduction\n",
    "Describe what experiment is run in this notebook."
   ]
  },
  {
   "cell_type": "code",
   "execution_count": 1,
   "metadata": {},
   "outputs": [],
   "source": [
    "# Add imports & variables here\n",
    "import sys\n",
    "sys.path.append('./')\n",
    "\n",
    "import pandas as pd\n",
    "import random\n",
    "import os\n",
    "\n",
    "from config import exp_configs # Hyperparameters set in config file\n",
    "from config import PROJECT_FOLDER, DATA_FOLDER, MODEL_FOLDER, ARTIFACT_FOLDER",
    "from utils.helpers import combine_config_results\n",
    "\n",
    "model_majorVer = 1 # majorVer denotes which experiment is\n",
    "\n",
    "results = {}"
   ]
  },
  {
   "cell_type": "code",
   "execution_count": 2,
   "metadata": {},
   "outputs": [
    {
     "data": {
      "text/html": [
       "<div>\n",
       "<style scoped>\n",
       "    .dataframe tbody tr th:only-of-type {\n",
       "        vertical-align: middle;\n",
       "    }\n",
       "\n",
       "    .dataframe tbody tr th {\n",
       "        vertical-align: top;\n",
       "    }\n",
       "\n",
       "    .dataframe thead th {\n",
       "        text-align: right;\n",
       "    }\n",
       "</style>\n",
       "<table border=\"1\" class=\"dataframe\">\n",
       "  <thead>\n",
       "    <tr style=\"text-align: right;\">\n",
       "      <th></th>\n",
       "      <th>param1</th>\n",
       "      <th>param2</th>\n",
       "      <th>description</th>\n",
       "    </tr>\n",
       "  </thead>\n",
       "  <tbody>\n",
       "    <tr>\n",
       "      <th>1</th>\n",
       "      <td>1</td>\n",
       "      <td>3</td>\n",
       "      <td>exp1</td>\n",
       "    </tr>\n",
       "    <tr>\n",
       "      <th>2</th>\n",
       "      <td>1</td>\n",
       "      <td>3</td>\n",
       "      <td>exp2</td>\n",
       "    </tr>\n",
       "    <tr>\n",
       "      <th>3</th>\n",
       "      <td>1</td>\n",
       "      <td>3</td>\n",
       "      <td>exp3</td>\n",
       "    </tr>\n",
       "  </tbody>\n",
       "</table>\n",
       "</div>"
      ],
      "text/plain": [
       "  param1 param2 description\n",
       "1      1      3        exp1\n",
       "2      1      3        exp2\n",
       "3      1      3        exp3"
      ]
     },
     "execution_count": 2,
     "metadata": {},
     "output_type": "execute_result"
    }
   ],
   "source": [
    "# print configs\n",
    "pd.DataFrame(exp_configs).T"
   ]
  },
  {
   "cell_type": "markdown",
   "metadata": {},
   "source": [
    "# Load data"
   ]
  },
  {
   "cell_type": "code",
   "execution_count": 3,
   "metadata": {},
   "outputs": [],
   "source": [
    "data = pd.read_csv(os.path.join(DATA_FOLDER, \"raw.csv\"))"
   ]
  },
  {
   "cell_type": "markdown",
   "metadata": {},
   "source": [
    "# Experiments"
   ]
  },
  {
   "cell_type": "code",
   "execution_count": 4,
   "metadata": {},
   "outputs": [],
   "source": [
    "for key, value in exp_configs.items():\n",
    "    \n",
    "    # Insert code for your model using value['param1'], value['param2'], etc.\n",
    "                             \n",
    "    # save models\n",
    "    model_dir = os.path.join(MODEL_FOLDER, f\"{model_majorVer}.{key}\")\n",
    "    os.makedirs(model_dir, exist_ok=True)\n",
    "    # e.g. model.save(os.path.join(model_path, \"model.pickle\"))\n",
    "                             \n",
    "    # write results\n",
    "    results[key] = {\n",
    "        \"accuracy\": random.uniform(0, 1),\n",
    "        \"precision\": random.uniform(0, 1),\n",
    "        \"recall\": random.uniform(0, 1),\n",
    "    }"
   ]
  },
  {
   "cell_type": "markdown",
   "metadata": {},
   "source": [
    "# Evaluate Results"
   ]
  },
  {
   "cell_type": "code",
   "execution_count": 5,
   "metadata": {},
   "outputs": [
    {
     "data": {
      "text/html": [
       "<div>\n",
       "<style scoped>\n",
       "    .dataframe tbody tr th:only-of-type {\n",
       "        vertical-align: middle;\n",
       "    }\n",
       "\n",
       "    .dataframe tbody tr th {\n",
       "        vertical-align: top;\n",
       "    }\n",
       "\n",
       "    .dataframe thead th {\n",
       "        text-align: right;\n",
       "    }\n",
       "</style>\n",
       "<table border=\"1\" class=\"dataframe\">\n",
       "  <thead>\n",
       "    <tr style=\"text-align: right;\">\n",
       "      <th></th>\n",
       "      <th>accuracy</th>\n",
       "      <th>precision</th>\n",
       "      <th>recall</th>\n",
       "      <th>param1</th>\n",
       "      <th>param2</th>\n",
       "      <th>description</th>\n",
       "    </tr>\n",
       "  </thead>\n",
       "  <tbody>\n",
       "    <tr>\n",
       "      <th>1</th>\n",
       "      <td>0.543984</td>\n",
       "      <td>0.63768</td>\n",
       "      <td>0.654345</td>\n",
       "      <td>1</td>\n",
       "      <td>3</td>\n",
       "      <td>exp1</td>\n",
       "    </tr>\n",
       "    <tr>\n",
       "      <th>2</th>\n",
       "      <td>0.610034</td>\n",
       "      <td>0.229332</td>\n",
       "      <td>0.503463</td>\n",
       "      <td>1</td>\n",
       "      <td>3</td>\n",
       "      <td>exp2</td>\n",
       "    </tr>\n",
       "    <tr>\n",
       "      <th>3</th>\n",
       "      <td>0.98065</td>\n",
       "      <td>0.952739</td>\n",
       "      <td>0.163493</td>\n",
       "      <td>1</td>\n",
       "      <td>3</td>\n",
       "      <td>exp3</td>\n",
       "    </tr>\n",
       "  </tbody>\n",
       "</table>\n",
       "</div>"
      ],
      "text/plain": [
       "   accuracy precision    recall param1 param2 description\n",
       "1  0.543984   0.63768  0.654345      1      3        exp1\n",
       "2  0.610034  0.229332  0.503463      1      3        exp2\n",
       "3   0.98065  0.952739  0.163493      1      3        exp3"
      ]
     },
     "execution_count": 5,
     "metadata": {},
     "output_type": "execute_result"
    }
   ],
   "source": [
    "results = combine_config_results(exp_configs, results)\n",
    "    \n",
    "df_results = pd.DataFrame(results)\n",
    "df_results.T"
   ]
  },
  {
   "cell_type": "code",
   "execution_count": 6,
   "metadata": {},
   "outputs": [],
   "source": [
    "# save metrics\n",
    "artifact_dir = os.path.join(ARTIFACT_FOLDER, f\"{model_majorVer}.0\")\n",
    "os.makedirs(artifact_dir, exist_ok=True)\n",
    "df_results.T.to_parquet(os.path.join(artifact_dir, \"results.parquet\"))"
   ]
  },
  {
   "cell_type": "markdown",
   "metadata": {},
   "source": [
    "# Discussions & Next steps\n",
    "Describe findings & future directions"
   ]
  }
 ],
 "metadata": {
  "kernelspec": {
   "display_name": "Python 3",
   "language": "python",
   "name": "python3"
  },
  "language_info": {
   "codemirror_mode": {
    "name": "ipython",
    "version": 3
   },
   "file_extension": ".py",
   "mimetype": "text/x-python",
   "name": "python",
   "nbconvert_exporter": "python",
   "pygments_lexer": "ipython3",
   "version": "3.8.5"
  }
 },
 "nbformat": 4,
 "nbformat_minor": 5
}
